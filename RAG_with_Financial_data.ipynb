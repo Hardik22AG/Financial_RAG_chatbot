{
  "nbformat": 4,
  "nbformat_minor": 0,
  "metadata": {
    "colab": {
      "provenance": []
    },
    "kernelspec": {
      "name": "python3",
      "display_name": "Python 3"
    },
    "language_info": {
      "name": "python"
    },
    "widgets": {
      "application/vnd.jupyter.widget-state+json": {
        "8f11cd9fe8ad4327807fff58cdd2ed68": {
          "model_module": "@jupyter-widgets/controls",
          "model_name": "HBoxModel",
          "model_module_version": "1.5.0",
          "state": {
            "_dom_classes": [],
            "_model_module": "@jupyter-widgets/controls",
            "_model_module_version": "1.5.0",
            "_model_name": "HBoxModel",
            "_view_count": null,
            "_view_module": "@jupyter-widgets/controls",
            "_view_module_version": "1.5.0",
            "_view_name": "HBoxView",
            "box_style": "",
            "children": [
              "IPY_MODEL_c603fc9542c74cccbe89fad28f462a4e",
              "IPY_MODEL_d53e7d2bd7714092a758eea90c3f8ce6",
              "IPY_MODEL_f6694b243d6b486ea7776de145493e7e"
            ],
            "layout": "IPY_MODEL_635d6447e9214ccf8d5b67e2315effa3"
          }
        },
        "c603fc9542c74cccbe89fad28f462a4e": {
          "model_module": "@jupyter-widgets/controls",
          "model_name": "HTMLModel",
          "model_module_version": "1.5.0",
          "state": {
            "_dom_classes": [],
            "_model_module": "@jupyter-widgets/controls",
            "_model_module_version": "1.5.0",
            "_model_name": "HTMLModel",
            "_view_count": null,
            "_view_module": "@jupyter-widgets/controls",
            "_view_module_version": "1.5.0",
            "_view_name": "HTMLView",
            "description": "",
            "description_tooltip": null,
            "layout": "IPY_MODEL_a2c1b06a0c7f40b2be0cc66592c37c88",
            "placeholder": "​",
            "style": "IPY_MODEL_27cf7eea103e4dd6835169818490b83a",
            "value": "Fetching 9 files: 100%"
          }
        },
        "d53e7d2bd7714092a758eea90c3f8ce6": {
          "model_module": "@jupyter-widgets/controls",
          "model_name": "FloatProgressModel",
          "model_module_version": "1.5.0",
          "state": {
            "_dom_classes": [],
            "_model_module": "@jupyter-widgets/controls",
            "_model_module_version": "1.5.0",
            "_model_name": "FloatProgressModel",
            "_view_count": null,
            "_view_module": "@jupyter-widgets/controls",
            "_view_module_version": "1.5.0",
            "_view_name": "ProgressView",
            "bar_style": "success",
            "description": "",
            "description_tooltip": null,
            "layout": "IPY_MODEL_760777b438fa4ac5b2945e90630e6b6c",
            "max": 9,
            "min": 0,
            "orientation": "horizontal",
            "style": "IPY_MODEL_72773b3bcf144ae09b6f945505348b3b",
            "value": 9
          }
        },
        "f6694b243d6b486ea7776de145493e7e": {
          "model_module": "@jupyter-widgets/controls",
          "model_name": "HTMLModel",
          "model_module_version": "1.5.0",
          "state": {
            "_dom_classes": [],
            "_model_module": "@jupyter-widgets/controls",
            "_model_module_version": "1.5.0",
            "_model_name": "HTMLModel",
            "_view_count": null,
            "_view_module": "@jupyter-widgets/controls",
            "_view_module_version": "1.5.0",
            "_view_name": "HTMLView",
            "description": "",
            "description_tooltip": null,
            "layout": "IPY_MODEL_37c8275ee85748029d67746805433ecd",
            "placeholder": "​",
            "style": "IPY_MODEL_5c91760e1b0e42e89e0a1f52cc9cda80",
            "value": " 9/9 [00:00&lt;00:00, 392.43it/s]"
          }
        },
        "635d6447e9214ccf8d5b67e2315effa3": {
          "model_module": "@jupyter-widgets/base",
          "model_name": "LayoutModel",
          "model_module_version": "1.2.0",
          "state": {
            "_model_module": "@jupyter-widgets/base",
            "_model_module_version": "1.2.0",
            "_model_name": "LayoutModel",
            "_view_count": null,
            "_view_module": "@jupyter-widgets/base",
            "_view_module_version": "1.2.0",
            "_view_name": "LayoutView",
            "align_content": null,
            "align_items": null,
            "align_self": null,
            "border": null,
            "bottom": null,
            "display": null,
            "flex": null,
            "flex_flow": null,
            "grid_area": null,
            "grid_auto_columns": null,
            "grid_auto_flow": null,
            "grid_auto_rows": null,
            "grid_column": null,
            "grid_gap": null,
            "grid_row": null,
            "grid_template_areas": null,
            "grid_template_columns": null,
            "grid_template_rows": null,
            "height": null,
            "justify_content": null,
            "justify_items": null,
            "left": null,
            "margin": null,
            "max_height": null,
            "max_width": null,
            "min_height": null,
            "min_width": null,
            "object_fit": null,
            "object_position": null,
            "order": null,
            "overflow": null,
            "overflow_x": null,
            "overflow_y": null,
            "padding": null,
            "right": null,
            "top": null,
            "visibility": null,
            "width": null
          }
        },
        "a2c1b06a0c7f40b2be0cc66592c37c88": {
          "model_module": "@jupyter-widgets/base",
          "model_name": "LayoutModel",
          "model_module_version": "1.2.0",
          "state": {
            "_model_module": "@jupyter-widgets/base",
            "_model_module_version": "1.2.0",
            "_model_name": "LayoutModel",
            "_view_count": null,
            "_view_module": "@jupyter-widgets/base",
            "_view_module_version": "1.2.0",
            "_view_name": "LayoutView",
            "align_content": null,
            "align_items": null,
            "align_self": null,
            "border": null,
            "bottom": null,
            "display": null,
            "flex": null,
            "flex_flow": null,
            "grid_area": null,
            "grid_auto_columns": null,
            "grid_auto_flow": null,
            "grid_auto_rows": null,
            "grid_column": null,
            "grid_gap": null,
            "grid_row": null,
            "grid_template_areas": null,
            "grid_template_columns": null,
            "grid_template_rows": null,
            "height": null,
            "justify_content": null,
            "justify_items": null,
            "left": null,
            "margin": null,
            "max_height": null,
            "max_width": null,
            "min_height": null,
            "min_width": null,
            "object_fit": null,
            "object_position": null,
            "order": null,
            "overflow": null,
            "overflow_x": null,
            "overflow_y": null,
            "padding": null,
            "right": null,
            "top": null,
            "visibility": null,
            "width": null
          }
        },
        "27cf7eea103e4dd6835169818490b83a": {
          "model_module": "@jupyter-widgets/controls",
          "model_name": "DescriptionStyleModel",
          "model_module_version": "1.5.0",
          "state": {
            "_model_module": "@jupyter-widgets/controls",
            "_model_module_version": "1.5.0",
            "_model_name": "DescriptionStyleModel",
            "_view_count": null,
            "_view_module": "@jupyter-widgets/base",
            "_view_module_version": "1.2.0",
            "_view_name": "StyleView",
            "description_width": ""
          }
        },
        "760777b438fa4ac5b2945e90630e6b6c": {
          "model_module": "@jupyter-widgets/base",
          "model_name": "LayoutModel",
          "model_module_version": "1.2.0",
          "state": {
            "_model_module": "@jupyter-widgets/base",
            "_model_module_version": "1.2.0",
            "_model_name": "LayoutModel",
            "_view_count": null,
            "_view_module": "@jupyter-widgets/base",
            "_view_module_version": "1.2.0",
            "_view_name": "LayoutView",
            "align_content": null,
            "align_items": null,
            "align_self": null,
            "border": null,
            "bottom": null,
            "display": null,
            "flex": null,
            "flex_flow": null,
            "grid_area": null,
            "grid_auto_columns": null,
            "grid_auto_flow": null,
            "grid_auto_rows": null,
            "grid_column": null,
            "grid_gap": null,
            "grid_row": null,
            "grid_template_areas": null,
            "grid_template_columns": null,
            "grid_template_rows": null,
            "height": null,
            "justify_content": null,
            "justify_items": null,
            "left": null,
            "margin": null,
            "max_height": null,
            "max_width": null,
            "min_height": null,
            "min_width": null,
            "object_fit": null,
            "object_position": null,
            "order": null,
            "overflow": null,
            "overflow_x": null,
            "overflow_y": null,
            "padding": null,
            "right": null,
            "top": null,
            "visibility": null,
            "width": null
          }
        },
        "72773b3bcf144ae09b6f945505348b3b": {
          "model_module": "@jupyter-widgets/controls",
          "model_name": "ProgressStyleModel",
          "model_module_version": "1.5.0",
          "state": {
            "_model_module": "@jupyter-widgets/controls",
            "_model_module_version": "1.5.0",
            "_model_name": "ProgressStyleModel",
            "_view_count": null,
            "_view_module": "@jupyter-widgets/base",
            "_view_module_version": "1.2.0",
            "_view_name": "StyleView",
            "bar_color": null,
            "description_width": ""
          }
        },
        "37c8275ee85748029d67746805433ecd": {
          "model_module": "@jupyter-widgets/base",
          "model_name": "LayoutModel",
          "model_module_version": "1.2.0",
          "state": {
            "_model_module": "@jupyter-widgets/base",
            "_model_module_version": "1.2.0",
            "_model_name": "LayoutModel",
            "_view_count": null,
            "_view_module": "@jupyter-widgets/base",
            "_view_module_version": "1.2.0",
            "_view_name": "LayoutView",
            "align_content": null,
            "align_items": null,
            "align_self": null,
            "border": null,
            "bottom": null,
            "display": null,
            "flex": null,
            "flex_flow": null,
            "grid_area": null,
            "grid_auto_columns": null,
            "grid_auto_flow": null,
            "grid_auto_rows": null,
            "grid_column": null,
            "grid_gap": null,
            "grid_row": null,
            "grid_template_areas": null,
            "grid_template_columns": null,
            "grid_template_rows": null,
            "height": null,
            "justify_content": null,
            "justify_items": null,
            "left": null,
            "margin": null,
            "max_height": null,
            "max_width": null,
            "min_height": null,
            "min_width": null,
            "object_fit": null,
            "object_position": null,
            "order": null,
            "overflow": null,
            "overflow_x": null,
            "overflow_y": null,
            "padding": null,
            "right": null,
            "top": null,
            "visibility": null,
            "width": null
          }
        },
        "5c91760e1b0e42e89e0a1f52cc9cda80": {
          "model_module": "@jupyter-widgets/controls",
          "model_name": "DescriptionStyleModel",
          "model_module_version": "1.5.0",
          "state": {
            "_model_module": "@jupyter-widgets/controls",
            "_model_module_version": "1.5.0",
            "_model_name": "DescriptionStyleModel",
            "_view_count": null,
            "_view_module": "@jupyter-widgets/base",
            "_view_module_version": "1.2.0",
            "_view_name": "StyleView",
            "description_width": ""
          }
        }
      }
    }
  },
  "cells": [
    {
      "cell_type": "code",
      "execution_count": null,
      "metadata": {
        "id": "LIfBY63yfuvV"
      },
      "outputs": [],
      "source": [
        "!pip install virtualenv\n",
        "!mkdir my_virtualenv\n",
        "%cd my_virtualenv\n",
        "!virtualenv my_env\n",
        "!source my_env/bin/activate"
      ]
    },
    {
      "cell_type": "code",
      "source": [
        "%pip install -q llama-index 'google-generativeai>=0.3.0' qdrant_client llama-index-embeddings-fastembed fastembed llama-index-llms-gemini"
      ],
      "metadata": {
        "id": "L4blR7RhfwBh"
      },
      "execution_count": null,
      "outputs": []
    },
    {
      "cell_type": "code",
      "source": [
        "from llama_index.core import SimpleDirectoryReader\n",
        "docs = SimpleDirectoryReader(\"/content/Datasets\").load_data()"
      ],
      "metadata": {
        "id": "Iu-BHyrZf3C5"
      },
      "execution_count": 1,
      "outputs": []
    },
    {
      "cell_type": "code",
      "source": [
        "from llama_index.core.node_parser.text import SentenceSplitter\n",
        "# Initialize the SentenceSplitter with a specific chunk size\n",
        "text_parser = SentenceSplitter(chunk_size=1024)\n",
        "text_chunks = [] # This will hold all the chunks of text from all documents\n",
        "doc_idxs = [] # This will keep track of the document each chunk came from\n",
        "for doc_idx, doc in enumerate(docs):\n",
        " # Split the current document's text into chunks\n",
        " cur_text_chunks = text_parser.split_text(doc.text)\n",
        "\n",
        " # Extend the list of all text chunks with the chunks from the current document\n",
        " text_chunks.extend(cur_text_chunks)\n",
        "\n",
        " # Extend the document index list with the index of the current document, repeated for each chunk\n",
        " doc_idxs.extend([doc_idx] * len(cur_text_chunks))"
      ],
      "metadata": {
        "id": "hOtZalmakol7"
      },
      "execution_count": 2,
      "outputs": []
    },
    {
      "cell_type": "code",
      "source": [
        "from llama_index.core.schema import TextNode\n",
        "nodes = [] # This will hold all TextNode objects created from the text chunks\n",
        "# Iterate over each text chunk and its index\n",
        "for idx, text_chunk in enumerate(text_chunks):\n",
        " # Create a TextNode object with the current text chunk\n",
        " node = TextNode(text=text_chunk)\n",
        "\n",
        " # Retrieve the source document using the current index mapped through doc_idxs\n",
        " src_doc = docs[doc_idxs[idx]]\n",
        "\n",
        " # Assign the source document's metadata to the node's metadata attribute\n",
        " node.metadata = src_doc.metadata\n",
        "\n",
        " # Append the newly created node to the list of nodes\n",
        " nodes.append(node)"
      ],
      "metadata": {
        "id": "zyVRoddJkpTN"
      },
      "execution_count": 3,
      "outputs": []
    },
    {
      "cell_type": "code",
      "source": [
        "\n",
        "%pip install llama-index-vector-stores-qdrant"
      ],
      "metadata": {
        "id": "AsPZ6QS_m6ay"
      },
      "execution_count": null,
      "outputs": []
    },
    {
      "cell_type": "code",
      "source": [
        "from llama_index.core import VectorStoreIndex, StorageContext\n",
        "from llama_index.vector_stores.qdrant import QdrantVectorStore\n",
        "from llama_index.core import Settings\n",
        "from llama_index.core import StorageContext\n",
        "import qdrant_client\n",
        "\n",
        "# Create a local Qdrant vector store\n",
        "client = qdrant_client.QdrantClient(path=\"financialnews\")\n",
        "vector_store = QdrantVectorStore(client=client, collection_name=\"collection\")"
      ],
      "metadata": {
        "id": "UrDyqjFQkpQW"
      },
      "execution_count": 4,
      "outputs": []
    },
    {
      "cell_type": "code",
      "source": [
        "%env GOOGLE_API_KEY = \"\"\n",
        "import os\n",
        "GOOGLE_API_KEY = \"A\" # add your GOOGLE API key here\n",
        "os.environ[\"GOOGLE_API_KEY\"] = GOOGLE_API_KEY"
      ],
      "metadata": {
        "id": "kObi39KUkpNH"
      },
      "execution_count": null,
      "outputs": []
    },
    {
      "cell_type": "code",
      "source": [
        "from llama_index.embeddings.fastembed import FastEmbedEmbedding\n",
        "embed_model = FastEmbedEmbedding(model_name=\"BAAI/bge-small-en-v1.5\")\n",
        "for node in nodes:\n",
        " node_embedding = embed_model.get_text_embedding(\n",
        " node.get_content(metadata_mode=\"all\")\n",
        " )\n",
        " node.embedding = node_embedding\n",
        "from llama_index.llms.gemini import Gemini\n",
        "Settings.embed_model = embed_model\n",
        "Settings.llm = Gemini(model=\"models/gemini-pro\")\n",
        "Settings.transformations = [SentenceSplitter(chunk_size=1024)]\n",
        "storage_context = StorageContext.from_defaults(vector_store=vector_store)\n",
        "index = VectorStoreIndex(\n",
        " nodes=nodes,\n",
        " storage_context=storage_context,\n",
        "transformations=Settings.transformations,\n",
        ")"
      ],
      "metadata": {
        "colab": {
          "base_uri": "https://localhost:8080/",
          "height": 49,
          "referenced_widgets": [
            "8f11cd9fe8ad4327807fff58cdd2ed68",
            "c603fc9542c74cccbe89fad28f462a4e",
            "d53e7d2bd7714092a758eea90c3f8ce6",
            "f6694b243d6b486ea7776de145493e7e",
            "635d6447e9214ccf8d5b67e2315effa3",
            "a2c1b06a0c7f40b2be0cc66592c37c88",
            "27cf7eea103e4dd6835169818490b83a",
            "760777b438fa4ac5b2945e90630e6b6c",
            "72773b3bcf144ae09b6f945505348b3b",
            "37c8275ee85748029d67746805433ecd",
            "5c91760e1b0e42e89e0a1f52cc9cda80"
          ]
        },
        "id": "isGJyqqZkpKU",
        "outputId": "cd4cdc06-1211-4f03-a6a4-65b0696f6a54"
      },
      "execution_count": 6,
      "outputs": [
        {
          "output_type": "display_data",
          "data": {
            "text/plain": [
              "Fetching 9 files:   0%|          | 0/9 [00:00<?, ?it/s]"
            ],
            "application/vnd.jupyter.widget-view+json": {
              "version_major": 2,
              "version_minor": 0,
              "model_id": "8f11cd9fe8ad4327807fff58cdd2ed68"
            }
          },
          "metadata": {}
        }
      ]
    },
    {
      "cell_type": "code",
      "source": [
        "from llama_index.core import get_response_synthesizer\n",
        "from llama_index.core.query_engine import RetrieverQueryEngine\n",
        "from llama_index.core.retrievers import VectorIndexRetriever\n",
        "vector_retriever = VectorIndexRetriever(index=index, similarity_top_k=2)\n",
        "response_synthesizer = get_response_synthesizer()\n",
        "vector_query_engine = RetrieverQueryEngine(\n",
        " retriever=vector_retriever,\n",
        " response_synthesizer=response_synthesizer,\n",
        ")"
      ],
      "metadata": {
        "id": "C_2dpqrFkpHl"
      },
      "execution_count": 7,
      "outputs": []
    },
    {
      "cell_type": "code",
      "source": [
        "from llama_index.core.indices.query.query_transform import HyDEQueryTransform\n",
        "from llama_index.core.query_engine import TransformQueryEngine\n",
        "hyde = HyDEQueryTransform(include_original=True)\n",
        "hyde_query_engine = TransformQueryEngine(vector_query_engine, hyde)"
      ],
      "metadata": {
        "id": "UR55cVZCsNxk"
      },
      "execution_count": 8,
      "outputs": []
    },
    {
      "cell_type": "code",
      "source": [
        "!pip install gradio"
      ],
      "metadata": {
        "id": "sjqLzRPbtOIY"
      },
      "execution_count": null,
      "outputs": []
    },
    {
      "cell_type": "code",
      "source": [
        "def queries(query_str):\n",
        " response = hyde_query_engine.query(query_str)\n",
        " return str(response)\n",
        "import gradio as gr\n",
        "import os\n",
        "gr.close_all()\n",
        "with gr.Blocks(theme=gr.themes.Soft()) as demo:\n",
        " gr.Markdown(\n",
        " \"\"\"\n",
        " #Welcome to Gemini-Powered Stock Predictor RAG Chatbot!\n",
        " \"\"\")\n",
        " chatbot = gr.Chatbot()\n",
        " msg = gr.Textbox()\n",
        " clear = gr.ClearButton([msg, chatbot])\n",
        " def respond(message, chat_history):\n",
        "  bot_message = queries(message)\n",
        "  chat_history.append((message, bot_message))\n",
        "  return \"\", chat_history\n",
        " msg.submit(respond, [msg, chatbot], [msg, chatbot])\n",
        "\n",
        "demo.launch(share=True)"
      ],
      "metadata": {
        "id": "Lp20N9OLs3fi"
      },
      "execution_count": null,
      "outputs": []
    },
    {
      "cell_type": "code",
      "source": [],
      "metadata": {
        "id": "nlfzfj12s6aa"
      },
      "execution_count": null,
      "outputs": []
    }
  ]
}